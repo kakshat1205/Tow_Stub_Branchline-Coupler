{
  "nbformat": 4,
  "nbformat_minor": 0,
  "metadata": {
    "colab": {
      "name": "RatRace.ipynb",
      "provenance": []
    },
    "kernelspec": {
      "name": "python374jvsc74a57bd05833737ce1591d7811e57706dc8f6b5525623c27c6ca81e6134008b3d8949235",
      "display_name": "Python 3.7.4 64-bit"
    },
    "language_info": {
      "name": "python",
      "version": "3.7.4"
    },
    "metadata": {
      "interpreter": {
        "hash": "5833737ce1591d7811e57706dc8f6b5525623c27c6ca81e6134008b3d8949235"
      }
    }
  },
  "cells": [
    {
      "cell_type": "code",
      "metadata": {
        "id": "d2w9pVaNkmVb"
      },
      "source": [
        "import numpy as np\n",
        "import math"
      ],
      "execution_count": 12,
      "outputs": []
    },
    {
      "cell_type": "code",
      "metadata": {
        "id": "rW8K7tLelm8n"
      },
      "source": [
        "def basic(P1,P2,P3,P4,P1R):\n",
        "  C =  -20 * math.log(abs(S13)) #Coupling -10 * math.log(P3/P1) =\n",
        "  D =  -20 * math.log(abs(S34)) #Directivity -10 * math.log(P4/P3) =\n",
        "  I = -20 * math.log(abs(S14)) #Isolation = -10 * math.log(P4/P1) \n",
        "  R =  -20 * math.log(abs(S11)) #Return_loss -10 * math.log(P1R/P1) =\n",
        "  return C,D,I,R\n",
        "\n",
        "def VSWR(S11):\n",
        "    VSWR = (1 + abs(S11)) / (1 - abs(S11)) "
      ],
      "execution_count": 13,
      "outputs": []
    },
    {
      "cell_type": "code",
      "metadata": {
        "id": "ACpCNQwPn2x0"
      },
      "source": [
        "def S_Param(S11e,S12e,S11o,S12o):\n",
        "    S11 = (S11e + S11o) / 2\n",
        "    S12 = (S12e + S12o) / 2\n",
        "    S13 = (S12e - S12o) / 2\n",
        "    S14 = (S11e - S11o) / 2\n",
        "    return S11,S12,S13,S14"
      ],
      "execution_count": 14,
      "outputs": []
    },
    {
      "cell_type": "code",
      "metadata": {
        "id": "ZhmADzVDoNrK"
      },
      "source": [
        "def S_eo_Param(Ae,Be,Ce,De,Ao,Bo,Co,Do,Yc):\n",
        "    S11e = (Be * Yc - Ce/Yc) / (2*Ae + Be * Yc + Ce/Yc)\n",
        "    S11o = (Bo * Yc - Co/Yc) / (2*Ao + Bo * Yc + Co/Yc)\n",
        "    S12e = (2 / (2*Ae + Be * Yc + Ce/Yc))\n",
        "    S12o = (2 / (2*Ao + Bo * Yc + Co/Yc))\n",
        "    return S11e,S11o,S12e,S12o"
      ],
      "execution_count": 15,
      "outputs": []
    },
    {
      "cell_type": "code",
      "metadata": {
        "id": "citda7UjpEaH"
      },
      "source": [
        "def thetha_Fun(Ya,Yb,lambda0):\n",
        "    #thetha = math.pi * lambda0 / (2 * lambda)\n",
        "    Yc = Ya*Ya - Yb*Yb\n",
        "    thetha = math.pi/2\n",
        "    T = math.tan(thetha / 2)\n",
        "    Ae = math.cos(thetha) - (Yb * T * math.sin(thetha))\n",
        "    De = math.cos(thetha) - (Yb * T * math.sin(thetha))\n",
        "    Be = complex(0,math.sin(thetha) / Ya)\n",
        "    Ce = complex(0,(2*Yb*T*math.cos(thetha) - (Yb*Yb*T*T * math.sin(thetha))/(Ya) + Ya * math.sin(thetha)))\n",
        "\n",
        "    Ao = math.cos(thetha) + Yb * math.sin(thetha) / (Ya * T)\n",
        "    Do = math.cos(thetha) + Yb * math.sin(thetha) / (Ya * T)\n",
        "\n",
        "    Bo = complex(math.sin(thetha) / Ya)\n",
        "    Co = complex(0,(-2*Yb*math.cos(thetha)/T - (Yb*Yb * math.sin(thetha))/(Ya*T*T) + Ya * math.sin(thetha)))\n",
        "\n",
        "    S_EO = S_eo_Param(Ae,Be,Ce,De,Ao,Bo,Co,Do,Yc)\n",
        "\n",
        "    S_par = S_Param(S_EO[0],S_EO[2],S_EO[1],S_EO[3])\n",
        "\n",
        "    return S_par"
      ],
      "execution_count": 16,
      "outputs": []
    },
    {
      "cell_type": "code",
      "metadata": {
        "id": "gdw1EkZRy5kD"
      },
      "source": [
        "def Spar(Ya,Yb):\n",
        "    Yc = Ya*Ya - Yb*Yb\n",
        "    S11  = 0\n",
        "    S14 = 0\n",
        "    S12 =  complex(0, -Yc / Ya)\n",
        "    S13 = -Yb / Ya\n",
        "    return S11,S12,S13,S14"
      ],
      "execution_count": 17,
      "outputs": []
    },
    {
      "cell_type": "code",
      "metadata": {
        "colab": {
          "base_uri": "https://localhost:8080/",
          "height": 346
        },
        "id": "smkC1_5sMqTi",
        "outputId": "fbcb6f4b-bbbc-476b-aa79-f216e61aaa4b"
      },
      "source": [
        "import cv2\n",
        "from tkinter import *\n",
        "from PIL import ImageTk,Image  \n",
        "import matplotlib\n",
        "matplotlib.use('Agg')\n",
        "class MyWindow:\n",
        "    def __init__(self, win):\n",
        "        self.lbl1=Label(win, text='Ya')\n",
        "        self.lbl2=Label(win, text='Yb')\n",
        "        self.lbl3=Label(win, text='Lambda')\n",
        "        self.lbl4=Label(win, text='Result :')\n",
        "        self.lbl5=Label(win, text='S11 :')\n",
        "        self.lbl6=Label(win, text='S12 :')\n",
        "        self.lbl7=Label(win, text='S13 :')\n",
        "        self.lbl8=Label(win, text='S14 :')\n",
        "        \n",
        "        #self.lbl5=Label(win, text='graph')\n",
        "        self.t1=Entry(bd=1)\n",
        "        self.t2=Entry()\n",
        "        self.t3=Entry()\n",
        "        self.t4=Entry()\n",
        "        self.t5=Entry()\n",
        "        self.t6=Entry()\n",
        "        self.t7=Entry()\n",
        "        #self.t3=Entry()\n",
        "        self.btn1 = Button(win, text='Calculate_S_param')\n",
        "        #self.btn2=Button(win, text='Subtract')\n",
        "        self.lbl1.place(x=100, y=50)\n",
        "        self.t1.place(x=200, y=50)\n",
        "        self.lbl2.place(x=100, y=100)\n",
        "        self.t2.place(x=200, y=100)\n",
        "        self.lbl3.place(x=100, y=150)\n",
        "        self.t3.place(x=200, y=150)\n",
        "        self.lbl4.place(x=100, y=275)\n",
        "        self.lbl5.place(x=150, y=300)\n",
        "        self.t4.place(x=200, y=300)\n",
        "        self.lbl6.place(x=150, y=325)\n",
        "        self.t5.place(x=200, y=325)\n",
        "        self.lbl7.place(x=150, y=350)\n",
        "        self.t6.place(x=200, y=350)\n",
        "        self.lbl8.place(x=150, y=375)\n",
        "        self.t7.place(x=200, y=375)\n",
        "\n",
        "\n",
        "        # path = \"download.png\"\n",
        "\n",
        "        # #Create an object of tkinter ImageTk\n",
        "        # img = ImageTk.PhotoImage(Image.open(path))\n",
        "\n",
        "        # #Create a Label Widget to display the text or Image\n",
        "        # label = Label(win, image = img)\n",
        "        # label.pack(fill = \"both\", expand = \"yes\")\n",
        "        \n",
        "        \n",
        "        self.b1=Button(win, text='Calculate', command=self.add)\n",
        "        self.b2=Button(win, text='Calculate2')\n",
        "        self.b2.bind('<Button-1>', self.sub)\n",
        "        self.b1.place(x=100, y=200)\n",
        "        self.b2.place(x=200, y=200)\n",
        "\n",
        "        \n",
        "        \n",
        "\n",
        "         \n",
        "        \n",
        "    def add(self):\n",
        "        self.t4.delete(0, 'end')\n",
        "        self.t5.delete(0, 'end')\n",
        "        self.t6.delete(0, 'end')\n",
        "        self.t7.delete(0, 'end')\n",
        "        num1=int(self.t1.get())\n",
        "        num2=int(self.t2.get())\n",
        "        #num3=int(self.t3.get())\n",
        "        result=Spar(num1,num2)\n",
        "        self.t4.insert(END, str(result[0]))\n",
        "        self.t5.insert(END, str(result[1]))\n",
        "        self.t6.insert(END, str(result[2]))\n",
        "        self.t7.insert(END, str(result[3]))\n",
        "    def sub(self, event):\n",
        "        self.t4.delete(0, 'end')\n",
        "        self.t5.delete(0, 'end')\n",
        "        self.t6.delete(0, 'end')\n",
        "        self.t7.delete(0, 'end')\n",
        "        num1=int(self.t1.get())\n",
        "        num2=int(self.t2.get())\n",
        "        num3=int(self.t3.get())\n",
        "        result=thetha_Fun(num1,num2,num3)\n",
        "        self.t4.insert(END, str(result[0]))\n",
        "        self.t5.insert(END, str(result[1]))\n",
        "        self.t6.insert(END, str(result[2]))\n",
        "        self.t7.insert(END, str(result[3]))\n",
        "    def graph(self):\n",
        "        return 0\n",
        "\n",
        "\n",
        "\n",
        "\n",
        "\n",
        " \n",
        "window=Tk()\n",
        "canvas = Canvas(window, width = 1200, height = 1000)  \n",
        "canvas.pack()  \n",
        "img = ImageTk.PhotoImage(Image.open(\"download2.png\"))  \n",
        "canvas.create_image(400, 25, anchor=NW, image=img) \n",
        "img2 = ImageTk.PhotoImage(Image.open(\"ratrace.png\"))  \n",
        "canvas.create_image(400, 275, anchor=NW, image=img2) \n",
        "mywin=MyWindow(window)\n",
        "window.title('2 stub branchline Coupler')\n",
        "window.geometry(\"900x700+10+10\")\n",
        "#window.configure(background='orange')\n",
        "window.mainloop()"
      ],
      "execution_count": 32,
      "outputs": []
    },
    {
      "cell_type": "code",
      "metadata": {
        "colab": {
          "base_uri": "https://localhost:8080/",
          "height": 346
        },
        "id": "MoiWX2OONJaz",
        "outputId": "40488230-dba6-4e2f-eb9b-30fc225b229a"
      },
      "source": [
        "from tkinter import *      \n",
        "root = Toplevel()      \n",
        "canvas = Canvas(root, width = 300, height = 300)      \n",
        "canvas.pack()      \n",
        "img = PhotoImage(file=\"download.png\")      \n",
        "canvas.create_image(20,20, anchor=NW, image=img)      \n",
        "mainloop() "
      ],
      "execution_count": null,
      "outputs": []
    },
    {
      "cell_type": "code",
      "metadata": {
        "colab": {
          "base_uri": "https://localhost:8080/",
          "height": 346
        },
        "id": "K-6Eut7yNlqG",
        "outputId": "12f71a44-c4af-40e0-9b10-e56e4ea43009"
      },
      "source": [
        "from tkinter import *  \n",
        "  \n",
        "top = Tk()  \n",
        "  \n",
        "top.geometry(\"400x250\")  \n",
        "  \n",
        "#creating label  \n",
        "uname = Label(top, text = \"Username\").place(x = 30,y = 50)  \n",
        "  \n",
        "#creating label  \n",
        "password = Label(top, text = \"Password\").place(x = 30, y = 90)  \n",
        "  \n",
        "  \n",
        "sbmitbtn = Button(top, text = \"Submit\",activebackground = \"pink\", activeforeground = \"blue\").place(x = 30, y = 120)  \n",
        "  \n",
        "e1 = Entry(top,width = 20).place(x = 100, y = 50)  \n",
        "  \n",
        "  \n",
        "e2 = Entry(top, width = 20).place(x = 100, y = 90)  \n",
        "  \n",
        "  \n",
        "top.mainloop()  "
      ],
      "execution_count": null,
      "outputs": []
    },
    {
      "cell_type": "code",
      "execution_count": null,
      "metadata": {},
      "outputs": [],
      "source": [
        "#import module needed\n",
        "import tkinter as tk\n",
        "#write the new window function which\n",
        "#will be called when button pressed\n",
        "def new_window():\n",
        "    window = tk.Toplevel(root)\n",
        "    canvas = tk.Canvas(window, height=HEIGHT, width=WIDTH)\n",
        "    button = tk.Button(wi, text=\"new window\", bg='black', fg='#469A00',command=lambda: new_window())\n",
        "    button.pack()    \n",
        "    canvas.pack()\n",
        "\n",
        "HEIGHT = 400\n",
        "WIDTH = 300\n",
        "#create original window (title not need but why not?)\n",
        "root = tk.Tk()\n",
        "root.title(\"new window making machine: \")\n",
        "canvas = tk.Canvas(root, height=HEIGHT, width=WIDTH)\n",
        "canvas.pack()\n",
        "#create button that will be placed\n",
        "button = tk.Button(root, text=\"new window\", bg='black', fg='#469A00',\n",
        "                              command=lambda: new_window())\n",
        "#can use .grid() or .place() instead of pack .place()\n",
        "#is the best according to me if you want the most control of positions\n",
        "button.pack()\n",
        "root.mainloop()"
      ]
    },
    {
      "cell_type": "code",
      "execution_count": 2,
      "metadata": {},
      "outputs": [],
      "source": [
        "from tkinter import *  \n",
        "from PIL import ImageTk,Image  \n",
        "root = Tk()  \n",
        "canvas = Canvas(root, width = 300, height = 300)  \n",
        "canvas.pack()  \n",
        "img = ImageTk.PhotoImage(Image.open(\"download.png\"))  \n",
        "canvas.create_image(100, 100, anchor=NW, image=img) \n",
        "root.mainloop()"
      ]
    },
    {
      "cell_type": "code",
      "execution_count": null,
      "metadata": {},
      "outputs": [],
      "source": []
    }
  ]
}