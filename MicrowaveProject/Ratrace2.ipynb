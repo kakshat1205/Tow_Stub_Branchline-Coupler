{
 "metadata": {
  "language_info": {
   "codemirror_mode": {
    "name": "ipython",
    "version": 3
   },
   "file_extension": ".py",
   "mimetype": "text/x-python",
   "name": "python",
   "nbconvert_exporter": "python",
   "pygments_lexer": "ipython3",
   "version": "3.7.4"
  },
  "orig_nbformat": 2,
  "kernelspec": {
   "name": "python374jvsc74a57bd05833737ce1591d7811e57706dc8f6b5525623c27c6ca81e6134008b3d8949235",
   "display_name": "Python 3.7.4 64-bit"
  },
  "metadata": {
   "interpreter": {
    "hash": "5833737ce1591d7811e57706dc8f6b5525623c27c6ca81e6134008b3d8949235"
   }
  }
 },
 "nbformat": 4,
 "nbformat_minor": 2,
 "cells": [
  {
   "cell_type": "code",
   "execution_count": 1,
   "metadata": {},
   "outputs": [],
   "source": [
    "import numpy as np\n",
    "import math"
   ]
  },
  {
   "cell_type": "code",
   "execution_count": 2,
   "metadata": {},
   "outputs": [],
   "source": [
    "def Spar(Yao,Ybo,Yc):\n",
    "    Ya = Yao/Yc \n",
    "    Yb = Ybo/Yc\n",
    "    delta = 1 + Ya*Ya +Yb*Yb\n",
    "\n",
    "    S11 = (1 - Ya*Ya - Yb*Yb) / (delta)\n",
    "    S12 = complex(0,-2*Yb/delta)\n",
    "    S13 = 0\n",
    "    S14 = complex(0,2*Ya/delta)\n",
    "\n",
    "    return S11,S12,S13,S14"
   ]
  },
  {
   "cell_type": "code",
   "execution_count": 6,
   "metadata": {},
   "outputs": [
    {
     "output_type": "stream",
     "name": "stderr",
     "text": [
      "Exception in Tkinter callback\nTraceback (most recent call last):\n  File \"C:\\Users\\kaksh\\AppData\\Local\\Programs\\Python\\Python37\\lib\\tkinter\\__init__.py\", line 1705, in __call__\n    return self.func(*args)\n  File \"<ipython-input-6-cd2facdf159e>\", line 74, in add\n    result=Spar(num1,num2,1)\n  File \"<ipython-input-2-f8d15a555931>\", line 2, in Spar\n    Ya = Yao/Yc\nTypeError: unsupported operand type(s) for /: 'str' and 'int'\n"
     ]
    }
   ],
   "source": [
    "import cv2\n",
    "from tkinter import *\n",
    "from PIL import ImageTk,Image  \n",
    "import matplotlib\n",
    "matplotlib.use('Agg')\n",
    "class MyWindow:\n",
    "    def __init__(self, win):\n",
    "        self.lbl1=Label(win, text='Ya')\n",
    "        self.lbl2=Label(win, text='Yb')\n",
    "        self.lbl3=Label(win, text='Lambda')\n",
    "        self.lbl4=Label(win, text='Result :')\n",
    "        self.lbl5=Label(win, text='S11 :')\n",
    "        self.lbl6=Label(win, text='S12 :')\n",
    "        self.lbl7=Label(win, text='S13 :')\n",
    "        self.lbl8=Label(win, text='S14 :')\n",
    "        \n",
    "        #self.lbl5=Label(win, text='graph')\n",
    "        self.t1=Entry(bd=1)\n",
    "        self.t2=Entry()\n",
    "        self.t3=Entry()\n",
    "        self.t4=Entry()\n",
    "        self.t5=Entry()\n",
    "        self.t6=Entry()\n",
    "        self.t7=Entry()\n",
    "        #self.t3=Entry()\n",
    "        self.btn1 = Button(win, text='Calculate_S_param')\n",
    "        #self.btn2=Button(win, text='Subtract')\n",
    "        self.lbl1.place(x=100, y=50)\n",
    "        self.t1.place(x=200, y=50)\n",
    "        self.lbl2.place(x=100, y=100)\n",
    "        self.t2.place(x=200, y=100)\n",
    "        self.lbl3.place(x=100, y=150)\n",
    "        self.t3.place(x=200, y=150)\n",
    "        self.lbl4.place(x=100, y=275)\n",
    "        self.lbl5.place(x=150, y=300)\n",
    "        self.t4.place(x=200, y=300)\n",
    "        self.lbl6.place(x=150, y=325)\n",
    "        self.t5.place(x=200, y=325)\n",
    "        self.lbl7.place(x=150, y=350)\n",
    "        self.t6.place(x=200, y=350)\n",
    "        self.lbl8.place(x=150, y=375)\n",
    "        self.t7.place(x=200, y=375)\n",
    "\n",
    "\n",
    "        # path = \"download.png\"\n",
    "\n",
    "        # #Create an object of tkinter ImageTk\n",
    "        # img = ImageTk.PhotoImage(Image.open(path))\n",
    "\n",
    "        # #Create a Label Widget to display the text or Image\n",
    "        # label = Label(win, image = img)\n",
    "        # label.pack(fill = \"both\", expand = \"yes\")\n",
    "        \n",
    "        \n",
    "        self.b1=Button(win, text='Calculate',command=self.add)\n",
    "        self.b2=Button(win, text='Graph')\n",
    "        self.b2.bind('<Button-1>', self.sub)\n",
    "        self.b1.place(x=100, y=200)\n",
    "        self.b2.place(x=200, y=200)\n",
    "\n",
    "        \n",
    "        \n",
    "\n",
    "         \n",
    "        \n",
    "    def add(self):\n",
    "        self.t4.delete(0, 'end')\n",
    "        self.t5.delete(0, 'end')\n",
    "        self.t6.delete(0, 'end')\n",
    "        self.t7.delete(0, 'end')\n",
    "        num1=(self.t1.get())\n",
    "        num2=(self.t2.get())\n",
    "        #num3=int(self.t3.get())\n",
    "        result=Spar(num1,num2,1)\n",
    "        self.t4.insert(END, str(result[0]))\n",
    "        self.t5.insert(END, str(result[1]))\n",
    "        self.t6.insert(END, str(result[2]))\n",
    "        self.t7.insert(END, str(result[3]))\n",
    "    def sub(self, event):\n",
    "        self.t4.delete(0, 'end')\n",
    "        self.t5.delete(0, 'end')\n",
    "        self.t6.delete(0, 'end')\n",
    "        self.t7.delete(0, 'end')\n",
    "        num1=(self.t1.get())\n",
    "        num2=(self.t2.get())\n",
    "        num3=(self.t3.get())\n",
    "        result=thetha_Fun(num1,num2,num3)\n",
    "        self.t4.insert(END, str(result[0]))\n",
    "        self.t5.insert(END, str(result[1]))\n",
    "        self.t6.insert(END, str(result[2]))\n",
    "        self.t7.insert(END, str(result[3]))\n",
    "    def graph(self):\n",
    "        return 0\n",
    "\n",
    "\n",
    " \n",
    "window=Tk()\n",
    "mywin=MyWindow(window)\n",
    "window.title('Hybrid Coupler')\n",
    "window.geometry(\"1200x800+10+10\")\n",
    "window.mainloop()"
   ]
  },
  {
   "cell_type": "code",
   "execution_count": null,
   "metadata": {},
   "outputs": [],
   "source": []
  }
 ]
}